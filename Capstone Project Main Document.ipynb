{
    "cells": [
        {
            "cell_type": "markdown",
            "metadata": {
                "collapsed": true
            },
            "source": "## Introduction/Business Problem\n\nProblem\n\nClimate events are causing accidents on the roads of Seattle. Accidents can have severe mental and physical impacts on those directly involved and also reduce the efficiency and effectiveness of transport infrastructure. \n\nWe want to understand if it is possible to use data from past accidents with corresponding weather data to predict the probability of accidents and of the severity of these accidents.   \n\nIf we find that that there is a relationship between weather and accidents then we can use this data to educate road users and / or to put weather specific safety measures in place. We would thus hope to reduce the direct and indirect costs of accidents.\n\nConclusions drawn from this data set may also be applicable to other other parts of the country / world. We can assess the model to see if this is the case.\n\n\n"
        },
        {
            "cell_type": "code",
            "execution_count": null,
            "metadata": {},
            "outputs": [],
            "source": ""
        }
    ],
    "metadata": {
        "kernelspec": {
            "display_name": "Python 3.6",
            "language": "python",
            "name": "python3"
        },
        "language_info": {
            "codemirror_mode": {
                "name": "ipython",
                "version": 3
            },
            "file_extension": ".py",
            "mimetype": "text/x-python",
            "name": "python",
            "nbconvert_exporter": "python",
            "pygments_lexer": "ipython3",
            "version": "3.6.9"
        }
    },
    "nbformat": 4,
    "nbformat_minor": 1
}