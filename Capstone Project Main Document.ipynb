{
    "cells": [
        {
            "cell_type": "markdown",
            "metadata": {
                "collapsed": true
            },
            "source": "## Introduction/Business Problem\n\nClimate events are causing accidents on the roads of Seattle. Accidents can have severe mental and physical impacts on those directly involved and also reduce the efficiency and effectiveness of transport infrastructure. \n\nWe want to understand if it is possible to use data from past accidents with corresponding weather data to predict the severity of these accidents.   \n\nIf we find that that there is a relationship between weather and accidents then we can use this data to educate road users and / or to put weather specific safety measures in place. We would thus hope to reduce the direct and indirect costs of accidents.\n\nConclusions drawn from this data set may also be applicable to other other parts of the country / world. We can assess the model to see if this is the case.\n\n\n"
        },
        {
            "cell_type": "markdown",
            "metadata": {},
            "source": "## Data\n\nWe have a dataset from the Seattle Department of Transport that shows all collisions between 2004 and present. The data is provided by Seattle Police Department and recorded by Traffic Records.  \n\nThe data in the dataset is updated weekly and currently contains over 194,000 records.\n\nOur target variable is the severity of the accident which has 5 levels. \n\nThe dataset contains data on the location, weather, time and circumstance of the accidents. \n\nWe will use weather data fields as the independent variables and severity score as the dependent variable. \n\nThe data we have available to understand the weather is as follows\n\nROADCOND: A description of the weather conditions during\nthe time of the collision.\n\nROADCOND - explains if the road is wet, dry, icey, or has standing water.\nLIGHTCOND - explains the lighting at the time of the accident.\nWEATHER - a description of the weather at the time of the accident, there are currently 10 options. There are rows that will need removing due to missing data.  \n\nAn example record shows the following:\n\nAt 5TH AVE NE AND NE 103RD ST there was a severity 2 accident where two motor vehicles collided with a front end collision during overcast weather, where the road was wet and lighting was daylight. "
        },
        {
            "cell_type": "code",
            "execution_count": null,
            "metadata": {},
            "outputs": [],
            "source": ""
        },
        {
            "cell_type": "code",
            "execution_count": null,
            "metadata": {},
            "outputs": [],
            "source": ""
        }
    ],
    "metadata": {
        "kernelspec": {
            "display_name": "Python 3.6",
            "language": "python",
            "name": "python3"
        },
        "language_info": {
            "codemirror_mode": {
                "name": "ipython",
                "version": 3
            },
            "file_extension": ".py",
            "mimetype": "text/x-python",
            "name": "python",
            "nbconvert_exporter": "python",
            "pygments_lexer": "ipython3",
            "version": "3.6.9"
        }
    },
    "nbformat": 4,
    "nbformat_minor": 1
}