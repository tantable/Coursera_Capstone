{
    "cells": [
        {
            "cell_type": "markdown",
            "metadata": {
                "collapsed": true
            },
            "source": "## Introduction/Business Problem\n\nClimate events are causing accidents on the roads of Seattle. Accidents can have severe mental and physical impacts on those directly involved and also reduce the efficiency and effectiveness of transport infrastructure. \n\nWe want to understand if it is possible to use data from past accidents with corresponding weather data to predict the severity of these accidents.   \n\nIf we find that that there is a relationship between weather and accidents then we can use this data to educate road users and / or to put weather specific safety measures in place. We would thus hope to reduce the direct and indirect costs of accidents.\n\nConclusions drawn from this data set may also be applicable to other other parts of the country / world. We can assess the model to see if this is the case.\n\n\n"
        },
        {
            "cell_type": "markdown",
            "metadata": {},
            "source": "## Data\n\nWe have a dataset from the Seattle Department of Transport that shows all collisions between 2004 and present. The data is provided by Seattle Police Department and recorded by Traffic Records.  \n\nThe data in the dataset is updated weekly and currently contains over 194,000 records.\n\nOur target variable is the severity of the accident which has 5 levels. \n\nThe dataset contains data on the location, weather, time and circumstance of the accidents. \n\nWe will use weather data fields as the independent variables and severity score as the dependent variable. \n\nThe data we have available to understand the weather is as follows\n\nROADCOND: A description of the weather conditions during\nthe time of the collision.\n\nROADCOND - explains if the road is wet, dry, icey, or has standing water.\nLIGHTCOND - explains the lighting at the time of the accident.\nWEATHER - a description of the weather at the time of the accident, there are currently 10 options. There are rows that will need removing due to missing data.  \n\nAn example record shows the following:\n\nAt 5TH AVE NE AND NE 103RD ST there was a severity 2 accident where two motor vehicles collided with a front end collision during overcast weather, where the road was wet and lighting was daylight. "
        },
        {
            "cell_type": "code",
            "execution_count": 4,
            "metadata": {},
            "outputs": [],
            "source": "#importing modules required\nimport pandas as pd\nimport numpy as np\nimport matplotlib as mpl\nimport matplotlib.pyplot as plt\n\n#defining the data source\ndata = \"https://s3.us.cloud-object-storage.appdomain.cloud/cf-courses-data/CognitiveClass/DP0701EN/version-2/Data-Collisions.csv\"\n\n\n"
        },
        {
            "cell_type": "code",
            "execution_count": 5,
            "metadata": {},
            "outputs": [
                {
                    "data": {
                        "text/html": "<div>\n<style scoped>\n    .dataframe tbody tr th:only-of-type {\n        vertical-align: middle;\n    }\n\n    .dataframe tbody tr th {\n        vertical-align: top;\n    }\n\n    .dataframe thead th {\n        text-align: right;\n    }\n</style>\n<table border=\"1\" class=\"dataframe\">\n  <thead>\n    <tr style=\"text-align: right;\">\n      <th></th>\n      <th>SEVERITYCODE</th>\n      <th>X</th>\n      <th>Y</th>\n      <th>OBJECTID</th>\n      <th>INCKEY</th>\n      <th>COLDETKEY</th>\n      <th>REPORTNO</th>\n      <th>STATUS</th>\n      <th>ADDRTYPE</th>\n      <th>INTKEY</th>\n      <th>LOCATION</th>\n      <th>EXCEPTRSNCODE</th>\n      <th>EXCEPTRSNDESC</th>\n      <th>SEVERITYCODE.1</th>\n      <th>SEVERITYDESC</th>\n      <th>COLLISIONTYPE</th>\n      <th>PERSONCOUNT</th>\n      <th>PEDCOUNT</th>\n      <th>PEDCYLCOUNT</th>\n      <th>VEHCOUNT</th>\n      <th>INCDATE</th>\n      <th>INCDTTM</th>\n      <th>JUNCTIONTYPE</th>\n      <th>SDOT_COLCODE</th>\n      <th>SDOT_COLDESC</th>\n      <th>INATTENTIONIND</th>\n      <th>UNDERINFL</th>\n      <th>WEATHER</th>\n      <th>ROADCOND</th>\n      <th>LIGHTCOND</th>\n      <th>PEDROWNOTGRNT</th>\n      <th>SDOTCOLNUM</th>\n      <th>SPEEDING</th>\n      <th>ST_COLCODE</th>\n      <th>ST_COLDESC</th>\n      <th>SEGLANEKEY</th>\n      <th>CROSSWALKKEY</th>\n      <th>HITPARKEDCAR</th>\n    </tr>\n  </thead>\n  <tbody>\n    <tr>\n      <th>0</th>\n      <td>2</td>\n      <td>-122.323148</td>\n      <td>47.703140</td>\n      <td>1</td>\n      <td>1307</td>\n      <td>1307</td>\n      <td>3502005</td>\n      <td>Matched</td>\n      <td>Intersection</td>\n      <td>37475.0</td>\n      <td>5TH AVE NE AND NE 103RD ST</td>\n      <td></td>\n      <td>NaN</td>\n      <td>2</td>\n      <td>Injury Collision</td>\n      <td>Angles</td>\n      <td>2</td>\n      <td>0</td>\n      <td>0</td>\n      <td>2</td>\n      <td>2013/03/27 00:00:00+00</td>\n      <td>3/27/2013 2:54:00 PM</td>\n      <td>At Intersection (intersection related)</td>\n      <td>11</td>\n      <td>MOTOR VEHICLE STRUCK MOTOR VEHICLE, FRONT END ...</td>\n      <td>NaN</td>\n      <td>N</td>\n      <td>Overcast</td>\n      <td>Wet</td>\n      <td>Daylight</td>\n      <td>NaN</td>\n      <td>NaN</td>\n      <td>NaN</td>\n      <td>10</td>\n      <td>Entering at angle</td>\n      <td>0</td>\n      <td>0</td>\n      <td>N</td>\n    </tr>\n    <tr>\n      <th>1</th>\n      <td>1</td>\n      <td>-122.347294</td>\n      <td>47.647172</td>\n      <td>2</td>\n      <td>52200</td>\n      <td>52200</td>\n      <td>2607959</td>\n      <td>Matched</td>\n      <td>Block</td>\n      <td>NaN</td>\n      <td>AURORA BR BETWEEN RAYE ST AND BRIDGE WAY N</td>\n      <td>NaN</td>\n      <td>NaN</td>\n      <td>1</td>\n      <td>Property Damage Only Collision</td>\n      <td>Sideswipe</td>\n      <td>2</td>\n      <td>0</td>\n      <td>0</td>\n      <td>2</td>\n      <td>2006/12/20 00:00:00+00</td>\n      <td>12/20/2006 6:55:00 PM</td>\n      <td>Mid-Block (not related to intersection)</td>\n      <td>16</td>\n      <td>MOTOR VEHICLE STRUCK MOTOR VEHICLE, LEFT SIDE ...</td>\n      <td>NaN</td>\n      <td>0</td>\n      <td>Raining</td>\n      <td>Wet</td>\n      <td>Dark - Street Lights On</td>\n      <td>NaN</td>\n      <td>6354039.0</td>\n      <td>NaN</td>\n      <td>11</td>\n      <td>From same direction - both going straight - bo...</td>\n      <td>0</td>\n      <td>0</td>\n      <td>N</td>\n    </tr>\n    <tr>\n      <th>2</th>\n      <td>1</td>\n      <td>-122.334540</td>\n      <td>47.607871</td>\n      <td>3</td>\n      <td>26700</td>\n      <td>26700</td>\n      <td>1482393</td>\n      <td>Matched</td>\n      <td>Block</td>\n      <td>NaN</td>\n      <td>4TH AVE BETWEEN SENECA ST AND UNIVERSITY ST</td>\n      <td>NaN</td>\n      <td>NaN</td>\n      <td>1</td>\n      <td>Property Damage Only Collision</td>\n      <td>Parked Car</td>\n      <td>4</td>\n      <td>0</td>\n      <td>0</td>\n      <td>3</td>\n      <td>2004/11/18 00:00:00+00</td>\n      <td>11/18/2004 10:20:00 AM</td>\n      <td>Mid-Block (not related to intersection)</td>\n      <td>14</td>\n      <td>MOTOR VEHICLE STRUCK MOTOR VEHICLE, REAR END</td>\n      <td>NaN</td>\n      <td>0</td>\n      <td>Overcast</td>\n      <td>Dry</td>\n      <td>Daylight</td>\n      <td>NaN</td>\n      <td>4323031.0</td>\n      <td>NaN</td>\n      <td>32</td>\n      <td>One parked--one moving</td>\n      <td>0</td>\n      <td>0</td>\n      <td>N</td>\n    </tr>\n    <tr>\n      <th>3</th>\n      <td>1</td>\n      <td>-122.334803</td>\n      <td>47.604803</td>\n      <td>4</td>\n      <td>1144</td>\n      <td>1144</td>\n      <td>3503937</td>\n      <td>Matched</td>\n      <td>Block</td>\n      <td>NaN</td>\n      <td>2ND AVE BETWEEN MARION ST AND MADISON ST</td>\n      <td></td>\n      <td>NaN</td>\n      <td>1</td>\n      <td>Property Damage Only Collision</td>\n      <td>Other</td>\n      <td>3</td>\n      <td>0</td>\n      <td>0</td>\n      <td>3</td>\n      <td>2013/03/29 00:00:00+00</td>\n      <td>3/29/2013 9:26:00 AM</td>\n      <td>Mid-Block (not related to intersection)</td>\n      <td>11</td>\n      <td>MOTOR VEHICLE STRUCK MOTOR VEHICLE, FRONT END ...</td>\n      <td>NaN</td>\n      <td>N</td>\n      <td>Clear</td>\n      <td>Dry</td>\n      <td>Daylight</td>\n      <td>NaN</td>\n      <td>NaN</td>\n      <td>NaN</td>\n      <td>23</td>\n      <td>From same direction - all others</td>\n      <td>0</td>\n      <td>0</td>\n      <td>N</td>\n    </tr>\n    <tr>\n      <th>4</th>\n      <td>2</td>\n      <td>-122.306426</td>\n      <td>47.545739</td>\n      <td>5</td>\n      <td>17700</td>\n      <td>17700</td>\n      <td>1807429</td>\n      <td>Matched</td>\n      <td>Intersection</td>\n      <td>34387.0</td>\n      <td>SWIFT AVE S AND SWIFT AV OFF RP</td>\n      <td>NaN</td>\n      <td>NaN</td>\n      <td>2</td>\n      <td>Injury Collision</td>\n      <td>Angles</td>\n      <td>2</td>\n      <td>0</td>\n      <td>0</td>\n      <td>2</td>\n      <td>2004/01/28 00:00:00+00</td>\n      <td>1/28/2004 8:04:00 AM</td>\n      <td>At Intersection (intersection related)</td>\n      <td>11</td>\n      <td>MOTOR VEHICLE STRUCK MOTOR VEHICLE, FRONT END ...</td>\n      <td>NaN</td>\n      <td>0</td>\n      <td>Raining</td>\n      <td>Wet</td>\n      <td>Daylight</td>\n      <td>NaN</td>\n      <td>4028032.0</td>\n      <td>NaN</td>\n      <td>10</td>\n      <td>Entering at angle</td>\n      <td>0</td>\n      <td>0</td>\n      <td>N</td>\n    </tr>\n  </tbody>\n</table>\n</div>",
                        "text/plain": "   SEVERITYCODE           X          Y  OBJECTID  INCKEY  COLDETKEY REPORTNO  \\\n0             2 -122.323148  47.703140         1    1307       1307  3502005   \n1             1 -122.347294  47.647172         2   52200      52200  2607959   \n2             1 -122.334540  47.607871         3   26700      26700  1482393   \n3             1 -122.334803  47.604803         4    1144       1144  3503937   \n4             2 -122.306426  47.545739         5   17700      17700  1807429   \n\n    STATUS      ADDRTYPE   INTKEY  \\\n0  Matched  Intersection  37475.0   \n1  Matched         Block      NaN   \n2  Matched         Block      NaN   \n3  Matched         Block      NaN   \n4  Matched  Intersection  34387.0   \n\n                                      LOCATION EXCEPTRSNCODE EXCEPTRSNDESC  \\\n0                   5TH AVE NE AND NE 103RD ST                         NaN   \n1   AURORA BR BETWEEN RAYE ST AND BRIDGE WAY N           NaN           NaN   \n2  4TH AVE BETWEEN SENECA ST AND UNIVERSITY ST           NaN           NaN   \n3     2ND AVE BETWEEN MARION ST AND MADISON ST                         NaN   \n4              SWIFT AVE S AND SWIFT AV OFF RP           NaN           NaN   \n\n   SEVERITYCODE.1                    SEVERITYDESC COLLISIONTYPE  PERSONCOUNT  \\\n0               2                Injury Collision        Angles            2   \n1               1  Property Damage Only Collision     Sideswipe            2   \n2               1  Property Damage Only Collision    Parked Car            4   \n3               1  Property Damage Only Collision         Other            3   \n4               2                Injury Collision        Angles            2   \n\n   PEDCOUNT  PEDCYLCOUNT  VEHCOUNT                 INCDATE  \\\n0         0            0         2  2013/03/27 00:00:00+00   \n1         0            0         2  2006/12/20 00:00:00+00   \n2         0            0         3  2004/11/18 00:00:00+00   \n3         0            0         3  2013/03/29 00:00:00+00   \n4         0            0         2  2004/01/28 00:00:00+00   \n\n                  INCDTTM                             JUNCTIONTYPE  \\\n0    3/27/2013 2:54:00 PM   At Intersection (intersection related)   \n1   12/20/2006 6:55:00 PM  Mid-Block (not related to intersection)   \n2  11/18/2004 10:20:00 AM  Mid-Block (not related to intersection)   \n3    3/29/2013 9:26:00 AM  Mid-Block (not related to intersection)   \n4    1/28/2004 8:04:00 AM   At Intersection (intersection related)   \n\n   SDOT_COLCODE                                       SDOT_COLDESC  \\\n0            11  MOTOR VEHICLE STRUCK MOTOR VEHICLE, FRONT END ...   \n1            16  MOTOR VEHICLE STRUCK MOTOR VEHICLE, LEFT SIDE ...   \n2            14       MOTOR VEHICLE STRUCK MOTOR VEHICLE, REAR END   \n3            11  MOTOR VEHICLE STRUCK MOTOR VEHICLE, FRONT END ...   \n4            11  MOTOR VEHICLE STRUCK MOTOR VEHICLE, FRONT END ...   \n\n  INATTENTIONIND UNDERINFL   WEATHER ROADCOND                LIGHTCOND  \\\n0            NaN         N  Overcast      Wet                 Daylight   \n1            NaN         0   Raining      Wet  Dark - Street Lights On   \n2            NaN         0  Overcast      Dry                 Daylight   \n3            NaN         N     Clear      Dry                 Daylight   \n4            NaN         0   Raining      Wet                 Daylight   \n\n  PEDROWNOTGRNT  SDOTCOLNUM SPEEDING ST_COLCODE  \\\n0           NaN         NaN      NaN         10   \n1           NaN   6354039.0      NaN         11   \n2           NaN   4323031.0      NaN         32   \n3           NaN         NaN      NaN         23   \n4           NaN   4028032.0      NaN         10   \n\n                                          ST_COLDESC  SEGLANEKEY  \\\n0                                  Entering at angle           0   \n1  From same direction - both going straight - bo...           0   \n2                             One parked--one moving           0   \n3                   From same direction - all others           0   \n4                                  Entering at angle           0   \n\n   CROSSWALKKEY HITPARKEDCAR  \n0             0            N  \n1             0            N  \n2             0            N  \n3             0            N  \n4             0            N  "
                    },
                    "execution_count": 5,
                    "metadata": {},
                    "output_type": "execute_result"
                }
            ],
            "source": "#creating a pandas dataframe with the data set and taking a look at the data\n\npd.set_option('display.max_columns', None)\ncompleteDf = pd.read_csv(data)\ncompleteDf.head(5)"
        },
        {
            "cell_type": "code",
            "execution_count": 6,
            "metadata": {
                "scrolled": true
            },
            "outputs": [
                {
                    "name": "stdout",
                    "output_type": "stream",
                    "text": "<class 'pandas.core.frame.DataFrame'>\nRangeIndex: 194673 entries, 0 to 194672\nData columns (total 38 columns):\nSEVERITYCODE      194673 non-null int64\nX                 189339 non-null float64\nY                 189339 non-null float64\nOBJECTID          194673 non-null int64\nINCKEY            194673 non-null int64\nCOLDETKEY         194673 non-null int64\nREPORTNO          194673 non-null object\nSTATUS            194673 non-null object\nADDRTYPE          192747 non-null object\nINTKEY            65070 non-null float64\nLOCATION          191996 non-null object\nEXCEPTRSNCODE     84811 non-null object\nEXCEPTRSNDESC     5638 non-null object\nSEVERITYCODE.1    194673 non-null int64\nSEVERITYDESC      194673 non-null object\nCOLLISIONTYPE     189769 non-null object\nPERSONCOUNT       194673 non-null int64\nPEDCOUNT          194673 non-null int64\nPEDCYLCOUNT       194673 non-null int64\nVEHCOUNT          194673 non-null int64\nINCDATE           194673 non-null object\nINCDTTM           194673 non-null object\nJUNCTIONTYPE      188344 non-null object\nSDOT_COLCODE      194673 non-null int64\nSDOT_COLDESC      194673 non-null object\nINATTENTIONIND    29805 non-null object\nUNDERINFL         189789 non-null object\nWEATHER           189592 non-null object\nROADCOND          189661 non-null object\nLIGHTCOND         189503 non-null object\nPEDROWNOTGRNT     4667 non-null object\nSDOTCOLNUM        114936 non-null float64\nSPEEDING          9333 non-null object\nST_COLCODE        194655 non-null object\nST_COLDESC        189769 non-null object\nSEGLANEKEY        194673 non-null int64\nCROSSWALKKEY      194673 non-null int64\nHITPARKEDCAR      194673 non-null object\ndtypes: float64(4), int64(12), object(22)\nmemory usage: 56.4+ MB\n"
                }
            ],
            "source": "# taking a look at the data\ncompleteDf.info()"
        },
        {
            "cell_type": "code",
            "execution_count": 12,
            "metadata": {},
            "outputs": [
                {
                    "data": {
                        "text/html": "<div>\n<style scoped>\n    .dataframe tbody tr th:only-of-type {\n        vertical-align: middle;\n    }\n\n    .dataframe tbody tr th {\n        vertical-align: top;\n    }\n\n    .dataframe thead th {\n        text-align: right;\n    }\n</style>\n<table border=\"1\" class=\"dataframe\">\n  <thead>\n    <tr style=\"text-align: right;\">\n      <th></th>\n      <th>WEATHER</th>\n      <th>ROADCOND</th>\n      <th>LIGHTCOND</th>\n      <th>SEVERITYCODE</th>\n    </tr>\n  </thead>\n  <tbody>\n    <tr>\n      <th>0</th>\n      <td>Overcast</td>\n      <td>Wet</td>\n      <td>Daylight</td>\n      <td>2</td>\n    </tr>\n    <tr>\n      <th>1</th>\n      <td>Raining</td>\n      <td>Wet</td>\n      <td>Dark - Street Lights On</td>\n      <td>1</td>\n    </tr>\n    <tr>\n      <th>2</th>\n      <td>Overcast</td>\n      <td>Dry</td>\n      <td>Daylight</td>\n      <td>1</td>\n    </tr>\n    <tr>\n      <th>3</th>\n      <td>Clear</td>\n      <td>Dry</td>\n      <td>Daylight</td>\n      <td>1</td>\n    </tr>\n    <tr>\n      <th>4</th>\n      <td>Raining</td>\n      <td>Wet</td>\n      <td>Daylight</td>\n      <td>2</td>\n    </tr>\n  </tbody>\n</table>\n</div>",
                        "text/plain": "    WEATHER ROADCOND                LIGHTCOND  SEVERITYCODE\n0  Overcast      Wet                 Daylight             2\n1   Raining      Wet  Dark - Street Lights On             1\n2  Overcast      Dry                 Daylight             1\n3     Clear      Dry                 Daylight             1\n4   Raining      Wet                 Daylight             2"
                    },
                    "execution_count": 12,
                    "metadata": {},
                    "output_type": "execute_result"
                }
            ],
            "source": "#we will create a new df that contains just the columns we think we need\n\ndf = completeDf[[\"WEATHER\", \"ROADCOND\",\"LIGHTCOND\", \"SEVERITYCODE\"]]\ndf.head()\n"
        },
        {
            "cell_type": "code",
            "execution_count": 13,
            "metadata": {
                "scrolled": true
            },
            "outputs": [
                {
                    "name": "stdout",
                    "output_type": "stream",
                    "text": "<class 'pandas.core.frame.DataFrame'>\nRangeIndex: 194673 entries, 0 to 194672\nData columns (total 4 columns):\nWEATHER         189592 non-null object\nROADCOND        189661 non-null object\nLIGHTCOND       189503 non-null object\nSEVERITYCODE    194673 non-null int64\ndtypes: int64(1), object(3)\nmemory usage: 5.9+ MB\n"
                }
            ],
            "source": "#looking at the info of the new df\ndf.info()"
        },
        {
            "cell_type": "code",
            "execution_count": 26,
            "metadata": {},
            "outputs": [
                {
                    "data": {
                        "text/plain": "WEATHER         5081\nROADCOND        5012\nLIGHTCOND       5170\nSEVERITYCODE       0\ndtype: int64"
                    },
                    "execution_count": 26,
                    "metadata": {},
                    "output_type": "execute_result"
                }
            ],
            "source": "#finding out how many null rows we have in each column\n\ndf.isnull().sum(axis = 0)"
        },
        {
            "cell_type": "code",
            "execution_count": 31,
            "metadata": {},
            "outputs": [
                {
                    "data": {
                        "text/plain": "0.07840327112645308"
                    },
                    "execution_count": 31,
                    "metadata": {},
                    "output_type": "execute_result"
                }
            ],
            "source": "#checking the % of the data that contains missing data in at least one of its rows.\ndf.isnull().sum().sum() / 194673"
        },
        {
            "cell_type": "code",
            "execution_count": 87,
            "metadata": {
                "scrolled": true
            },
            "outputs": [
                {
                    "name": "stdout",
                    "output_type": "stream",
                    "text": "<class 'pandas.core.frame.DataFrame'>\nInt64Index: 4947 entries, 15 to 194655\nData columns (total 4 columns):\nWEATHER         0 non-null object\nROADCOND        0 non-null object\nLIGHTCOND       0 non-null object\nSEVERITYCODE    4947 non-null int64\ndtypes: int64(1), object(3)\nmemory usage: 193.2+ KB\n"
                }
            ],
            "source": "#here we are creating a new df by filtering to show the columns where all the independent variables are NaN\n\n#the columns we want to filter for\nNANcols = [\"WEATHER\", \"ROADCOND\", \"LIGHTCOND\"]\nfilteredDf = df[df[NANcols].isna().all(1)]\n\n#taking a look at the result\nfilteredDf.info()"
        },
        {
            "cell_type": "code",
            "execution_count": 88,
            "metadata": {},
            "outputs": [
                {
                    "name": "stdout",
                    "output_type": "stream",
                    "text": "<class 'pandas.core.frame.DataFrame'>\nInt64Index: 189726 entries, 0 to 194672\nData columns (total 4 columns):\nWEATHER         189592 non-null object\nROADCOND        189661 non-null object\nLIGHTCOND       189503 non-null object\nSEVERITYCODE    189726 non-null int64\ndtypes: int64(1), object(3)\nmemory usage: 7.2+ MB\n"
                }
            ],
            "source": "#we are dropping the rows that dont have at least 2 non NaN values\nwithoutNullDf = df.dropna(thresh=2)\n\n#taking a look at the remaining data\nwithoutNullDf.info()"
        },
        {
            "cell_type": "code",
            "execution_count": 93,
            "metadata": {},
            "outputs": [],
            "source": "#taking a look at the rows that have single NaN values\nNaNrows = withoutNullDf.isnull().sum(axis = 0).sum()"
        },
        {
            "cell_type": "code",
            "execution_count": 99,
            "metadata": {},
            "outputs": [
                {
                    "data": {
                        "text/plain": "0.222426024899065"
                    },
                    "execution_count": 99,
                    "metadata": {},
                    "output_type": "execute_result"
                }
            ],
            "source": "#checking the % of NaN rows \nNaNrows / withoutNullDf[\"SEVERITYCODE\"].count()*100"
        },
        {
            "cell_type": "code",
            "execution_count": 104,
            "metadata": {},
            "outputs": [],
            "source": "df_coll = withoutNullDf.dropna()"
        },
        {
            "cell_type": "code",
            "execution_count": 109,
            "metadata": {},
            "outputs": [
                {
                    "name": "stdout",
                    "output_type": "stream",
                    "text": "<class 'pandas.core.frame.DataFrame'>\nInt64Index: 189337 entries, 0 to 194672\nData columns (total 4 columns):\nWEATHER         189337 non-null object\nROADCOND        189337 non-null object\nLIGHTCOND       189337 non-null object\nSEVERITYCODE    189337 non-null int64\ndtypes: int64(1), object(3)\nmemory usage: 7.2+ MB\n"
                }
            ],
            "source": "df_coll.info()"
        },
        {
            "cell_type": "code",
            "execution_count": 112,
            "metadata": {},
            "outputs": [
                {
                    "name": "stdout",
                    "output_type": "stream",
                    "text": "<class 'pandas.core.frame.DataFrame'>\nRangeIndex: 189337 entries, 0 to 189336\nData columns (total 5 columns):\nindex           189337 non-null int64\nWEATHER         189337 non-null object\nROADCOND        189337 non-null object\nLIGHTCOND       189337 non-null object\nSEVERITYCODE    189337 non-null int64\ndtypes: int64(2), object(3)\nmemory usage: 7.2+ MB\n"
                }
            ],
            "source": "df_coll = df_coll.reset_index()\ndf_coll.info()"
        },
        {
            "cell_type": "code",
            "execution_count": null,
            "metadata": {},
            "outputs": [],
            "source": ""
        }
    ],
    "metadata": {
        "kernelspec": {
            "display_name": "Python 3.6",
            "language": "python",
            "name": "python3"
        },
        "language_info": {
            "codemirror_mode": {
                "name": "ipython",
                "version": 3
            },
            "file_extension": ".py",
            "mimetype": "text/x-python",
            "name": "python",
            "nbconvert_exporter": "python",
            "pygments_lexer": "ipython3",
            "version": "3.6.9"
        }
    },
    "nbformat": 4,
    "nbformat_minor": 1
}